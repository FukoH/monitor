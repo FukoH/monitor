{
 "cells": [
  {
   "cell_type": "markdown",
   "metadata": {},
   "source": [
    "# 收入影响因素分析"
   ]
  },
  {
   "cell_type": "markdown",
   "metadata": {},
   "source": [
    "本文尽力解释收入影响因素评分模型的设计过程，分为以下几个部分：\n",
    "1. 数据初探\n",
    "2. 备选模型及验证\n",
    "3. 结论"
   ]
  },
  {
   "cell_type": "markdown",
   "metadata": {},
   "source": [
    "## 1. 数据初探"
   ]
  },
  {
   "cell_type": "markdown",
   "metadata": {},
   "source": [
    "读入数据，先看看各变量的关系"
   ]
  },
  {
   "cell_type": "markdown",
   "metadata": {},
   "source": [
    "\n",
    "<img src=\"./static/single_plot.png\" width = \"70%\" height = \"50%\" alt=\"single_plot\" align=center />"
   ]
  },
  {
   "cell_type": "markdown",
   "metadata": {},
   "source": [
    "可以看出 $FEE$和各变量之间有比较明显的线性关系，考虑使用使用以下模型求解：\n",
    "1. Lasso（线性）\n",
    "2. Ridge（线性）\n",
    "3. Gradient Boosting Regression（非线性）"
   ]
  },
  {
   "cell_type": "markdown",
   "metadata": {},
   "source": [
    "## 2. 模型验证及训练"
   ]
  },
  {
   "cell_type": "markdown",
   "metadata": {},
   "source": [
    "### 模型训练及比较"
   ]
  },
  {
   "cell_type": "markdown",
   "metadata": {},
   "source": [
    "先导入各种包和读入数据"
   ]
  },
  {
   "cell_type": "code",
   "execution_count": 67,
   "metadata": {},
   "outputs": [],
   "source": [
    "import numpy as np\n",
    "import pandas as pd\n",
    "\n",
    "\n",
    "from sklearn.ensemble import GradientBoostingRegressor\n",
    "from sklearn.model_selection import KFold\n",
    "from sklearn.preprocessing import MinMaxScaler\n",
    "from sklearn.preprocessing import PolynomialFeatures\n",
    "from sklearn import linear_model, model_selection\n",
    "\n",
    "raw_data = pd.read_csv(r'./data/FEE.csv')\n",
    "heads = raw_data.columns\n",
    "# (0,1) transformation\n",
    "scaler = MinMaxScaler(feature_range=(0, 1))\n",
    "raw_data = pd.DataFrame(scaler.fit_transform(raw_data))\n",
    "raw_data.columns = heads\n",
    "# get X,y from raw data\n",
    "X = raw_data.drop(['OP_TIME', 'FEE'], axis=1)\n",
    "# get polynomial features\n",
    "# poly = PolynomialFeatures(degree=2) \n",
    "# degree取了2，3，4，score 不如什么都不做好，不使用PolynomialFeatures了\n",
    "# poly_X = pd.DataFrame(poly.fit_transform(X))\n",
    "poly_X = X\n",
    "y = raw_data['FEE']\n",
    "# outer 10-fold\n",
    "kf = KFold(n_splits=10)"
   ]
  },
  {
   "cell_type": "markdown",
   "metadata": {},
   "source": [
    "使用$ nested\\ 10-fold$交叉验证来寻找相对合适的超参数，找到超参数后，用$sklearn.metrics$来评估三个备选模型，评价标准是MSE,$sklearn.cross\\_val\\_score$给MSE加了一个负号，它用_score表示越大越好的值，_loss表示越小越好的值，所以在这里看到一个负的MSE也就可以解释得通了。（然而给人的感觉还是很奇怪！！）"
   ]
  },
  {
   "cell_type": "markdown",
   "metadata": {},
   "source": [
    "下面分别来看看三个模型的表现吧。"
   ]
  },
  {
   "cell_type": "code",
   "execution_count": 68,
   "metadata": {
    "collapsed": true
   },
   "outputs": [],
   "source": [
    "mean_performance = [] #记录不同模型的评分"
   ]
  },
  {
   "cell_type": "markdown",
   "metadata": {},
   "source": [
    "#### Lasso Regression"
   ]
  },
  {
   "cell_type": "code",
   "execution_count": 69,
   "metadata": {},
   "outputs": [
    {
     "name": "stdout",
     "output_type": "stream",
     "text": [
      "start training...\n",
      "alpha is 6.30097409285e-05\n",
      "start training...\n",
      "alpha is 6.96642847494e-05\n",
      "start training...\n",
      "alpha is 7.75473987246e-05\n",
      "start training...\n",
      "alpha is 8.18540787075e-05\n",
      "start training...\n",
      "alpha is 8.04580882601e-05\n",
      "start training...\n",
      "alpha is 8.06931621568e-05\n",
      "start training...\n",
      "alpha is 8.01326064739e-05\n",
      "start training...\n",
      "alpha is 7.61452461207e-05\n",
      "start training...\n",
      "alpha is 6.80458904209e-05\n",
      "start training...\n",
      "alpha is 6.05176273968e-05\n",
      "the mean neg_mse_score for LassoRegression is -0.000190264530221\n"
     ]
    }
   ],
   "source": [
    "scores = [] #记录寻找超参时不同超参的评分\n",
    "lasso_models = [] #寻找超参数时记录良好超参对应的model\n",
    "for train_index, test_index in kf.split(poly_X):\n",
    "    print(\"start training...\")\n",
    "    X_train, X_test = poly_X.iloc[train_index], poly_X.iloc[test_index]\n",
    "    y_train, y_test = y.iloc[train_index], y.iloc[test_index]\n",
    "    lassocv = linear_model.LassoCV(cv=10, max_iter=1500)\n",
    "    lassocv.fit(X_train, y_train)\n",
    "    print (\"alpha is %s\" % (lassocv.alpha_))\n",
    "    lasso = linear_model.Lasso(alpha=lassocv.alpha_).fit(X_train, y_train)\n",
    "    lasso_models.append(lasso)\n",
    "    score = lasso.score(X_test, y_test)\n",
    "    scores.append(score)\n",
    "scores_ndarray = np.asarray(scores)\n",
    "best_model = lasso_models[scores_ndarray.argmax()]\n",
    "cv_result = model_selection.cross_val_score(best_model, poly_X, y, cv=kf, scoring='neg_mean_squared_error')\n",
    "print ('the mean neg_mse_score for LassoRegression is %s' % (np.mean(np.asarray(cv_result))))\n",
    "mean_performance.append(np.mean(np.asarray(cv_result)))\n",
    "lasso = best_model # 记下这个模型，后面会用到"
   ]
  },
  {
   "cell_type": "markdown",
   "metadata": {},
   "source": [
    "#### Ridge Regression"
   ]
  },
  {
   "cell_type": "code",
   "execution_count": 70,
   "metadata": {},
   "outputs": [
    {
     "name": "stdout",
     "output_type": "stream",
     "text": [
      "start training...\n",
      "alpha is 0.01\n",
      "start training...\n",
      "alpha is 0.01\n",
      "start training...\n",
      "alpha is 0.01\n",
      "start training...\n",
      "alpha is 0.01\n",
      "start training...\n",
      "alpha is 0.01\n",
      "start training...\n",
      "alpha is 0.01\n",
      "start training...\n",
      "alpha is 0.01\n",
      "start training...\n",
      "alpha is 0.01\n",
      "start training...\n",
      "alpha is 0.01\n",
      "start training...\n",
      "alpha is 0.01\n",
      "the mean neg_mse_score for RidgeRegression is -0.000925383692317\n"
     ]
    }
   ],
   "source": [
    "ridge_scores = [] #记录寻找超参时不同超参的评分\n",
    "ridge_models = [] #寻找超参数时记录良好超参对应的model\n",
    "for train_index, test_index in kf.split(poly_X):\n",
    "    print(\"start training...\")\n",
    "    X_train, X_test = poly_X.iloc[train_index], poly_X.iloc[test_index]\n",
    "    y_train, y_test = y.iloc[train_index], y.iloc[test_index]\n",
    "    lassocv = linear_model.RidgeCV(cv=10, alphas=[0.01, 0.03, 0.1, 0.3, 1, 3])\n",
    "    lassocv.fit(X_train, y_train)\n",
    "    print (\"alpha is %s\" % (lassocv.alpha_))\n",
    "    lasso = linear_model.Ridge(alpha=lassocv.alpha_).fit(X_train, y_train)\n",
    "    ridge_models.append(lasso)\n",
    "    score = lasso.score(X_test, y_test)\n",
    "    ridge_scores.append(score)\n",
    "ridge_scores_ndarray = np.asarray(ridge_scores)\n",
    "best_model = ridge_models[ridge_scores_ndarray.argmax()]\n",
    "cv_result = model_selection.cross_val_score(best_model, poly_X, y, cv=kf, scoring='neg_mean_squared_error')\n",
    "print ('the mean neg_mse_score for RidgeRegression is %s' % (np.mean(np.asarray(cv_result))))\n",
    "mean_performance.append(np.mean(np.asarray(cv_result)))"
   ]
  },
  {
   "cell_type": "markdown",
   "metadata": {},
   "source": [
    "#### Gradient Boosting Regression"
   ]
  },
  {
   "cell_type": "code",
   "execution_count": 71,
   "metadata": {},
   "outputs": [
    {
     "name": "stdout",
     "output_type": "stream",
     "text": [
      "the mean neg_mse_score for GRB is -0.0195198660699\n"
     ]
    }
   ],
   "source": [
    "params = {'n_estimators': 100, 'max_depth': 3, 'min_samples_split': 2,\n",
    "          'learning_rate': 0.01, 'loss': 'ls'}\n",
    "clf_gbr = GradientBoostingRegressor(**params)\n",
    "cv_result = model_selection.cross_val_score(clf_gbr, poly_X, y, cv=kf, scoring='neg_mean_squared_error')\n",
    "print ('the mean neg_mse_score for GRB is %s' % (np.mean(np.asarray(cv_result))))\n",
    "mean_performance.append(np.mean(np.asarray(cv_result)))"
   ]
  },
  {
   "cell_type": "markdown",
   "metadata": {},
   "source": [
    "线性模型的MSE已经好于GBR了，就不花功夫在这里调参了。"
   ]
  },
  {
   "cell_type": "markdown",
   "metadata": {},
   "source": [
    "### 模型确定及解释"
   ]
  },
  {
   "cell_type": "markdown",
   "metadata": {},
   "source": [
    "选定了Lasso Regression，下面就来看看这个模型的参数长啥样，如何解释各个因素的影响度。前面我们用$lasso$变量记下了最优的模型，现在直接拿来用就好。"
   ]
  },
  {
   "cell_type": "markdown",
   "metadata": {},
   "source": [
    "#### 解释依据"
   ]
  },
  {
   "cell_type": "markdown",
   "metadata": {},
   "source": [
    "要解释收入受到各个因素的影响是多少,可以利用模型中各个变量的偏导数的占比："
   ]
  },
  {
   "cell_type": "markdown",
   "metadata": {},
   "source": [
    "$$第i个因素的影响度Influence_i = \\frac{\\frac{\\partial f}{\\partial x_i}}{\\sum_{i=1}^n\\frac{\\partial f}{\\partial x_i}}$$"
   ]
  },
  {
   "cell_type": "markdown",
   "metadata": {},
   "source": [
    "因为是没有交叉项的线性一次模型，对$x_i$求偏导就是系数本身，每个系数占系数之和的比例就是影响度了。"
   ]
  },
  {
   "cell_type": "code",
   "execution_count": 72,
   "metadata": {},
   "outputs": [
    {
     "name": "stdout",
     "output_type": "stream",
     "text": [
      "BILL_FEE , 0.61 \n",
      "PRESENT_FEE , 0.23 \n",
      "INVALID_POST_BILL_FEE , 0.08 \n",
      "OWEBACK_FEE , 0.05 \n",
      "PREPAY_FEE , 0.04 \n",
      "SUBTRACT_FEE , 0.00 \n"
     ]
    }
   ],
   "source": [
    "# 得到系数的list\n",
    "factors = np.asarray(best_model.coef_)\n",
    "#得到影响因子\n",
    "influence = factors/np.sum(factors)\n",
    "\n",
    "def format_to_two_decimal_places(x):\n",
    "    '''\n",
    "    把浮点数格式化成两位小数\n",
    "    :param x: \n",
    "    :return: \n",
    "    '''\n",
    "    return '%.2f' % x\n",
    "#格式化一下小数,输出两位小数\n",
    "formatted_influence = map(format_to_two_decimal_places,influence)\n",
    "named_scores = zip(X.columns, influence)\n",
    "sorted_named_scores = sorted(named_scores, key=lambda influence: influence[1], reverse=True)\n",
    "for (name,factor) in sorted_named_scores:\n",
    "    print('%s , %.2f ' %(name,factor))\n",
    "\n",
    "\n",
    "# import matplotlib.pyplot as plt\n",
    "# %matplotlib inline\n"
   ]
  },
  {
   "cell_type": "markdown",
   "metadata": {},
   "source": [
    "#### 解释\n",
    "| 名称        | 因素           |\n",
    "|:------------- |:-------------:|\n",
    "|BILL_FEE| 0.61| \n",
    "|PRESENT_FEE| 0.23|\n",
    "|INVALID_POST_BILL_FEE| 0.08| \n",
    "|OWEBACK_FEE| 0.05|\n",
    "|PREPAY_FEE| 0.04| \n",
    "|SUBTRACT_FEE| 0.00| "
   ]
  },
  {
   "cell_type": "markdown",
   "metadata": {},
   "source": [
    "画出来看看"
   ]
  },
  {
   "cell_type": "code",
   "execution_count": 83,
   "metadata": {},
   "outputs": [
    {
     "data": {
      "text/plain": [
       "<matplotlib.axes._subplots.AxesSubplot at 0x1ec53400>"
      ]
     },
     "execution_count": 83,
     "metadata": {},
     "output_type": "execute_result"
    },
    {
     "data": {
      "image/png": "[encoded data removed]",
      "text/plain": [
       "<matplotlib.figure.Figure at 0x1edb0b00>"
      ]
     },
     "metadata": {},
     "output_type": "display_data"
    }
   ],
   "source": [
    "import seaborn as sns\n",
    "%matplotlib inline\n",
    "sns.barplot(x=influence, y=X.columns,order=[s[0] for s in sorted_named_scores],orient='h')"
   ]
  }
 ],
 "metadata": {
  "kernelspec": {
   "display_name": "Python 2",
   "language": "python",
   "name": "python2"
  },
  "language_info": {
   "codemirror_mode": {
    "name": "ipython",
    "version": 2
   },
   "file_extension": ".py",
   "mimetype": "text/x-python",
   "name": "python",
   "nbconvert_exporter": "python",
   "pygments_lexer": "ipython2",
   "version": "2.7.13"
  }
 },
 "nbformat": 4,
 "nbformat_minor": 2
}
